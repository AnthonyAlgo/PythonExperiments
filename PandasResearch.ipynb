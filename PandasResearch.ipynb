{
 "cells": [
  {
   "cell_type": "code",
   "execution_count": 2,
   "metadata": {},
   "outputs": [],
   "source": [
    "import pandas\n",
    "import requests\n",
    "import io\n",
    "import zipfile\n",
    "import json"
   ]
  },
  {
   "cell_type": "code",
   "execution_count": 3,
   "metadata": {},
   "outputs": [],
   "source": [
    "def get_zipped_csv_from_url(url : str, csv_name : str, num_rows : int) -> pandas.DataFrame:\n",
    "    web_file = requests.get(url=url)\n",
    "    zip = zipfile.ZipFile(io.BytesIO(web_file.content))\n",
    "    #data = pandas.read_csv(zip.open(csv_name), nrows=num_rows,usecols=['Date received','Issue'])\n",
    "    data = pandas.read_csv(zip.open(csv_name), nrows=num_rows)\n",
    "    return pandas.DataFrame(data)\n",
    "\n",
    "    #print(df)\n",
    "df = get_zipped_csv_from_url(\"https://files.consumerfinance.gov/ccdb/complaints.csv.zip\",\"complaints.csv\",10)"
   ]
  },
  {
   "cell_type": "code",
   "execution_count": 4,
   "metadata": {},
   "outputs": [
    {
     "name": "stdout",
     "output_type": "stream",
     "text": [
      "{'data': {'id': '1228393702244134912', 'text': 'What did the developer write in their Valentine’s card?\\n  \\nwhile(true) {\\n    I = Love(You);  \\n}'}}\n"
     ]
    }
   ],
   "source": [
    "id = \"1228393702244134912\"\n",
    "endpoint = \"https://api.twitter.com/2/tweets/\"+id\n",
    "\n",
    "def get_credentials(path: str) -> str:\n",
    "    file = open(credential_path, \"r\")\n",
    "    token = file.readline()\n",
    "    bearer_token = \"Bearer \" + token\n",
    "    return bearer_token\n",
    "\n",
    "\n",
    "    \n",
    "credential_path = \"/Users/at/API Credentials/TwitterCreds.txt\"\n",
    "file = open(credential_path, \"r\")\n",
    "#read first line for bearer\n",
    "token = file.readline()\n",
    "bearer_token = \"Bearer \" + token\n",
    "headers = {\"Authorization\" : bearer_token}\n",
    "response = requests.get(endpoint,headers=headers).json()\n",
    "print(response)\n"
   ]
  },
  {
   "cell_type": "code",
   "execution_count": 5,
   "metadata": {},
   "outputs": [
    {
     "name": "stdout",
     "output_type": "stream",
     "text": [
      "401\n"
     ]
    },
    {
     "ename": "Exception",
     "evalue": "(401, '{\\n  \"title\": \"Unauthorized\",\\n  \"type\": \"about:blank\",\\n  \"status\": 401,\\n  \"detail\": \"Unauthorized\"\\n}')",
     "output_type": "error",
     "traceback": [
      "\u001b[0;31m---------------------------------------------------------------------------\u001b[0m",
      "\u001b[0;31mException\u001b[0m                                 Traceback (most recent call last)",
      "\u001b[0;32m/var/folders/lr/583f62j11vlf8ysdc5rh97000000gn/T/ipykernel_97137/3507045493.py\u001b[0m in \u001b[0;36m<module>\u001b[0;34m\u001b[0m\n\u001b[1;32m     20\u001b[0m         \u001b[0;32mraise\u001b[0m \u001b[0mException\u001b[0m\u001b[0;34m(\u001b[0m\u001b[0mresponse\u001b[0m\u001b[0;34m.\u001b[0m\u001b[0mstatus_code\u001b[0m\u001b[0;34m,\u001b[0m \u001b[0mresponse\u001b[0m\u001b[0;34m.\u001b[0m\u001b[0mtext\u001b[0m\u001b[0;34m)\u001b[0m\u001b[0;34m\u001b[0m\u001b[0;34m\u001b[0m\u001b[0m\n\u001b[1;32m     21\u001b[0m     \u001b[0;32mreturn\u001b[0m \u001b[0mresponse\u001b[0m\u001b[0;34m.\u001b[0m\u001b[0mjson\u001b[0m\u001b[0;34m(\u001b[0m\u001b[0;34m)\u001b[0m\u001b[0;34m\u001b[0m\u001b[0;34m\u001b[0m\u001b[0m\n\u001b[0;32m---> 22\u001b[0;31m \u001b[0mresponse\u001b[0m \u001b[0;34m=\u001b[0m \u001b[0mconnect_to_endpoint\u001b[0m\u001b[0;34m(\u001b[0m\u001b[0msearch_url\u001b[0m\u001b[0;34m,\u001b[0m \u001b[0mquery_params\u001b[0m\u001b[0;34m)\u001b[0m\u001b[0;34m\u001b[0m\u001b[0;34m\u001b[0m\u001b[0m\n\u001b[0m\u001b[1;32m     23\u001b[0m \u001b[0;31m#print(response.json())\u001b[0m\u001b[0;34m\u001b[0m\u001b[0;34m\u001b[0m\u001b[0m\n\u001b[1;32m     24\u001b[0m \u001b[0;34m\u001b[0m\u001b[0m\n",
      "\u001b[0;32m/var/folders/lr/583f62j11vlf8ysdc5rh97000000gn/T/ipykernel_97137/3507045493.py\u001b[0m in \u001b[0;36mconnect_to_endpoint\u001b[0;34m(url, params)\u001b[0m\n\u001b[1;32m     18\u001b[0m     \u001b[0mprint\u001b[0m\u001b[0;34m(\u001b[0m\u001b[0mresponse\u001b[0m\u001b[0;34m.\u001b[0m\u001b[0mstatus_code\u001b[0m\u001b[0;34m)\u001b[0m\u001b[0;34m\u001b[0m\u001b[0;34m\u001b[0m\u001b[0m\n\u001b[1;32m     19\u001b[0m     \u001b[0;32mif\u001b[0m \u001b[0mresponse\u001b[0m\u001b[0;34m.\u001b[0m\u001b[0mstatus_code\u001b[0m \u001b[0;34m!=\u001b[0m \u001b[0;36m200\u001b[0m\u001b[0;34m:\u001b[0m\u001b[0;34m\u001b[0m\u001b[0;34m\u001b[0m\u001b[0m\n\u001b[0;32m---> 20\u001b[0;31m         \u001b[0;32mraise\u001b[0m \u001b[0mException\u001b[0m\u001b[0;34m(\u001b[0m\u001b[0mresponse\u001b[0m\u001b[0;34m.\u001b[0m\u001b[0mstatus_code\u001b[0m\u001b[0;34m,\u001b[0m \u001b[0mresponse\u001b[0m\u001b[0;34m.\u001b[0m\u001b[0mtext\u001b[0m\u001b[0;34m)\u001b[0m\u001b[0;34m\u001b[0m\u001b[0;34m\u001b[0m\u001b[0m\n\u001b[0m\u001b[1;32m     21\u001b[0m     \u001b[0;32mreturn\u001b[0m \u001b[0mresponse\u001b[0m\u001b[0;34m.\u001b[0m\u001b[0mjson\u001b[0m\u001b[0;34m(\u001b[0m\u001b[0;34m)\u001b[0m\u001b[0;34m\u001b[0m\u001b[0;34m\u001b[0m\u001b[0m\n\u001b[1;32m     22\u001b[0m \u001b[0mresponse\u001b[0m \u001b[0;34m=\u001b[0m \u001b[0mconnect_to_endpoint\u001b[0m\u001b[0;34m(\u001b[0m\u001b[0msearch_url\u001b[0m\u001b[0;34m,\u001b[0m \u001b[0mquery_params\u001b[0m\u001b[0;34m)\u001b[0m\u001b[0;34m\u001b[0m\u001b[0;34m\u001b[0m\u001b[0m\n",
      "\u001b[0;31mException\u001b[0m: (401, '{\\n  \"title\": \"Unauthorized\",\\n  \"type\": \"about:blank\",\\n  \"status\": 401,\\n  \"detail\": \"Unauthorized\"\\n}')"
     ]
    }
   ],
   "source": [
    "####-----DOES NOT WORK YET--- NEED upgraded access levels for Twitter API\n",
    "search_url = \"https://api.twitter.com/2/tweets/search/all\"\n",
    "query_params = {'query': '(from:twitterdev -is:retweet) OR #twitterdev','tweet.fields': 'author_id'}\n",
    "credential_path = \"/Users/at/API Credentials/TwitterCreds.txt\"\n",
    "creds = get_credentials(credential_path)\n",
    "def bearer_oauth(r):\n",
    "    \"\"\"\n",
    "    Method required by bearer token authentication.\n",
    "    \"\"\"\n",
    "\n",
    "    r.headers[\"Authorization\"] = f\"Bearer {creds}\"\n",
    "    r.headers[\"User-Agent\"] = \"v2FullArchiveSearchPython\"\n",
    "    return r\n",
    "\n",
    "\n",
    "def connect_to_endpoint(url, params):\n",
    "    response = requests.request(\"GET\", url, auth=bearer_oauth, params=params)\n",
    "    print(response.status_code)\n",
    "    if response.status_code != 200:\n",
    "        raise Exception(response.status_code, response.text)\n",
    "    return response.json()\n",
    "response = connect_to_endpoint(search_url, query_params)\n",
    "#print(response.json())\n",
    "\n",
    "def twitter_request(str: credential_path, url: str, query_params :dict):\n",
    "    creds = get_credentials(credential_path)\n",
    "\n",
    "\n",
    "\n",
    "\n",
    "    "
   ]
  },
  {
   "cell_type": "code",
   "execution_count": null,
   "metadata": {},
   "outputs": [],
   "source": [
    "#--Twitter Auth and Request\n",
    "# Twitter request Factory creates a factory that creates twitter api requests\n",
    "# The factory is in charge of handling the credentials by retrieving the credentials (bearer token)\n",
    "# from file and determining the url of the endpoint for the request.\n",
    "# The actual request just requires a query\n",
    "# Create a new factory for each request type\n",
    "# I guess this is way to not have to retrieve credentials everytime you need to send a request\n",
    "\n",
    "class twitter_request_factory:\n",
    "       \n",
    "    bearer_token : str\n",
    "    url : str\n",
    "    request_type : str\n",
    "    \n",
    "    def __init__(self, url: str, credential_path, request_type):\n",
    "        self.url = url\n",
    "        self.request_type = request_type\n",
    "        self.bearer_token = get_credentials(credential_path)\n",
    "\n",
    "    def get_credentials(path: str) -> str:\n",
    "        file = open(path, \"r\")\n",
    "        token = file.readline()\n",
    "        bearer_token = \"Bearer \" + token\n",
    "        return bearer_token\n",
    "    \n",
    "    def bearer_oauth(self,r):\n",
    "        \"\"\"\n",
    "        Method required by bearer token authentication.\n",
    "        \"\"\"\n",
    "        token = bearer_oauth\n",
    "        r.headers[\"Authorization\"] = f\"Bearer {token}\"\n",
    "        r.headers[\"User-Agent\"] = self.request_type\n",
    "        return r\n",
    "            \n",
    "    def twitter_request_all(self, query_params):\n",
    "        response = requests.request(\"GET\", self.url, auth=self.bearer_oauth, params=query_params)\n",
    "        #print(response.status_code)\n",
    "        if response.status_code != 200:\n",
    "            raise Exception(response.status_code, response.text)\n",
    "        return response.json()\n",
    "   \n",
    "    def twitter_request_get_recent_tweets(self, query_params):\n",
    "        headers = {\"Authorization\" : self.bearer_token}\n",
    "        response = requests.request(\"GET\", self.url, params = query_params, headers=headers)\n",
    "        #print(response.status_code)\n",
    "        if response.status_code != 200:\n",
    "            raise Exception(response.status_code, response.text)\n",
    "        return response\n",
    "    \n",
    "twit_factory = twitter_request_factory(\"https://api.twitter.com/2/tweets/search/all\", \"/Users/at/API Credentials/TwitterCreds.txt\",\"v2FullArchiveSearchPython\")\n",
    "\n",
    "#print(twit_factory.twitter_request_all({'query': '(from:twitterdev -is:retweet) OR #twitterdev','tweet.fields': 'author_id'}))"
   ]
  },
  {
   "cell_type": "code",
   "execution_count": null,
   "metadata": {},
   "outputs": [],
   "source": [
    "#----This block creates a recent_tweet_factory that is used to create recent tweet request based\n",
    "# on one set of credentials that are stored in the factory\n",
    "# Each time the loop iterates it produces a new request with the \"next_token\" from the previous request along with the expected payload\n",
    "\n",
    "def tweet_reader():\n",
    "    recent_tweet_factory = twitter_request_factory(\"https://api.twitter.com/2/tweets/search/recent\", \"/Users/at/API Credentials/TwitterCreds.txt\",\"NONE\")\n",
    "    query_params = {'query':'cruise'}\n",
    "    recent_tweet_request = recent_tweet_factory.twitter_request_get_recent_tweets(query_params)\n",
    "    response = json.dumps(recent_tweet_request.json(),indent=4, sort_keys=True)\n",
    "    print(response)\n",
    "    response_dict = json.loads(response)\n",
    "    next_request_token = response_dict[\"meta\"]\n",
    "    next_request_token = next_request_token['next_token']\n",
    "    i = 0\n",
    "    while i < 10:\n",
    "        new_query_params = {'query':'cruise', 'next_token':next_request_token}\n",
    "        recent_tweet_request = recent_tweet_factory.twitter_request_get_recent_tweets(query_params)\n",
    "        response = json.dumps(recent_tweet_request.json(),indent=4, sort_keys=True)\n",
    "        print(response)\n",
    "        next_request_token = response_dict[\"meta\"]\n",
    "        next_request_token = next_request_token['next_token']\n",
    "        tweet_data = response_dict[\"data\"]\n",
    "        \n",
    "        i+=1\n",
    "\n",
    "\n",
    "#tweet_reader()"
   ]
  },
  {
   "cell_type": "code",
   "execution_count": null,
   "metadata": {},
   "outputs": [],
   "source": [
    "import pymongo\n",
    "\n",
    "client = pymongo.MongoClient(\"mongodb://localhost:27017\")\n",
    "database = client[\"MainDatabase\"]\n",
    "cruise_tweets = database[\"CruiseTweets\"]\n",
    "\n",
    "#----This block creates a recent_tweet_factory that is used to create recent tweet request based\n",
    "# on one set of credentials that are stored in the factory\n",
    "# Each time the loop iterates it produces a new request with the \"next_token\" from the previous request along with the expected payload\n",
    "\n",
    "def tweet_reader(iterations: int, query: str):\n",
    "    recent_tweet_factory = twitter_request_factory(\"https://api.twitter.com/2/tweets/search/recent\", \"/Users/at/API Credentials/TwitterCreds.txt\",\"NONE\")\n",
    "    query_params = {'query': query}\n",
    "    recent_tweet_request = recent_tweet_factory.twitter_request_get_recent_tweets(query_params)\n",
    "    response = json.dumps(recent_tweet_request.json(),indent=4, sort_keys=True)\n",
    "    #print(response)\n",
    "    response_dict = json.loads(response)\n",
    "    \n",
    "    next_request_token = response_dict[\"meta\"]\n",
    "    next_request_token = next_request_token['next_token']\n",
    "    \n",
    "    tweet_data = response_dict[\"data\"]\n",
    "    cruise_tweets.insert_many(tweet_data)\n",
    "    i = 1\n",
    "    while i < iterations:\n",
    "        new_query_params = {'query': query, 'next_token':next_request_token}\n",
    "        recent_tweet_request = recent_tweet_factory.twitter_request_get_recent_tweets(new_query_params)\n",
    "        response = json.dumps(recent_tweet_request.json(),indent=4, sort_keys=True)      \n",
    "        #print(response)\n",
    "        response_dict = json.loads(response)\n",
    "        next_request_token = response_dict[\"meta\"]\n",
    "        next_request_token = next_request_token['next_token']\n",
    "        tweet_data = response_dict[\"data\"]\n",
    "        cruise_tweets.insert_many(tweet_data)\n",
    "\n",
    "        i+=1\n",
    "\n",
    "\n",
    "\n",
    "\n"
   ]
  },
  {
   "cell_type": "code",
   "execution_count": null,
   "metadata": {},
   "outputs": [
    {
     "ename": "KeyError",
     "evalue": "'next_token'",
     "output_type": "error",
     "traceback": [
      "\u001b[0;31m---------------------------------------------------------------------------\u001b[0m",
      "\u001b[0;31mKeyError\u001b[0m                                  Traceback (most recent call last)",
      "\u001b[0;32m/var/folders/lr/583f62j11vlf8ysdc5rh97000000gn/T/ipykernel_1486/3512503514.py\u001b[0m in \u001b[0;36m<module>\u001b[0;34m\u001b[0m\n\u001b[1;32m      3\u001b[0m \u001b[0mtweet_reader\u001b[0m\u001b[0;34m(\u001b[0m\u001b[0;36m10\u001b[0m\u001b[0;34m,\u001b[0m\u001b[0;34m'cruise ship'\u001b[0m\u001b[0;34m)\u001b[0m\u001b[0;34m\u001b[0m\u001b[0;34m\u001b[0m\u001b[0m\n\u001b[1;32m      4\u001b[0m \u001b[0;31m#tweet_reader(10,'cruise,port')\u001b[0m\u001b[0;34m\u001b[0m\u001b[0;34m\u001b[0m\u001b[0m\n\u001b[0;32m----> 5\u001b[0;31m \u001b[0mtweet_reader\u001b[0m\u001b[0;34m(\u001b[0m\u001b[0;36m10\u001b[0m\u001b[0;34m,\u001b[0m\u001b[0;34m'cruise,not going'\u001b[0m\u001b[0;34m)\u001b[0m\u001b[0;34m\u001b[0m\u001b[0;34m\u001b[0m\u001b[0m\n\u001b[0m\u001b[1;32m      6\u001b[0m \u001b[0mtweet_reader\u001b[0m\u001b[0;34m(\u001b[0m\u001b[0;36m10\u001b[0m\u001b[0;34m,\u001b[0m\u001b[0;34m'going on a cruise'\u001b[0m\u001b[0;34m)\u001b[0m\u001b[0;34m\u001b[0m\u001b[0;34m\u001b[0m\u001b[0m\n\u001b[1;32m      7\u001b[0m \u001b[0mtweet_reader\u001b[0m\u001b[0;34m(\u001b[0m\u001b[0;36m10\u001b[0m\u001b[0;34m,\u001b[0m\u001b[0;34m'cruise ship, covid'\u001b[0m\u001b[0;34m)\u001b[0m\u001b[0;34m\u001b[0m\u001b[0;34m\u001b[0m\u001b[0m\n",
      "\u001b[0;32m/var/folders/lr/583f62j11vlf8ysdc5rh97000000gn/T/ipykernel_1486/470435120.py\u001b[0m in \u001b[0;36mtweet_reader\u001b[0;34m(iterations, query)\u001b[0m\n\u001b[1;32m     18\u001b[0m \u001b[0;34m\u001b[0m\u001b[0m\n\u001b[1;32m     19\u001b[0m     \u001b[0mnext_request_token\u001b[0m \u001b[0;34m=\u001b[0m \u001b[0mresponse_dict\u001b[0m\u001b[0;34m[\u001b[0m\u001b[0;34m\"meta\"\u001b[0m\u001b[0;34m]\u001b[0m\u001b[0;34m\u001b[0m\u001b[0;34m\u001b[0m\u001b[0m\n\u001b[0;32m---> 20\u001b[0;31m     \u001b[0mnext_request_token\u001b[0m \u001b[0;34m=\u001b[0m \u001b[0mnext_request_token\u001b[0m\u001b[0;34m[\u001b[0m\u001b[0;34m'next_token'\u001b[0m\u001b[0;34m]\u001b[0m\u001b[0;34m\u001b[0m\u001b[0;34m\u001b[0m\u001b[0m\n\u001b[0m\u001b[1;32m     21\u001b[0m \u001b[0;34m\u001b[0m\u001b[0m\n\u001b[1;32m     22\u001b[0m     \u001b[0mtweet_data\u001b[0m \u001b[0;34m=\u001b[0m \u001b[0mresponse_dict\u001b[0m\u001b[0;34m[\u001b[0m\u001b[0;34m\"data\"\u001b[0m\u001b[0;34m]\u001b[0m\u001b[0;34m\u001b[0m\u001b[0;34m\u001b[0m\u001b[0m\n",
      "\u001b[0;31mKeyError\u001b[0m: 'next_token'"
     ]
    }
   ],
   "source": [
    "tweet_reader(10,'cruise')\n",
    "tweet_reader(10,'cruise,covid')\n",
    "tweet_reader(10,'cruise ship')\n",
    "tweet_reader(10,'cruise,port')\n",
    "tweet_reader(10,'cruise,not going')\n",
    "tweet_reader(10,'going on a cruise')\n",
    "tweet_reader(10,'cruise ship, covid')\n",
    "tweet_reader(10,'ship, covid')\n",
    "tweet_reader(10,'cruise ship, vacation')\n",
    "\n",
    "\n",
    "for x in cruise_tweets.find():\n",
    "    print(x)"
   ]
  },
  {
   "cell_type": "code",
   "execution_count": null,
   "metadata": {},
   "outputs": [
    {
     "data": {
      "text/plain": [
       "<pymongo.results.DeleteResult at 0x11778aa00>"
      ]
     },
     "execution_count": 355,
     "metadata": {},
     "output_type": "execute_result"
    }
   ],
   "source": [
    "#cruise_tweets.delete_many({})"
   ]
  },
  {
   "cell_type": "code",
   "execution_count": 6,
   "metadata": {},
   "outputs": [
    {
     "ename": "NameError",
     "evalue": "name 'cruise_tweets' is not defined",
     "output_type": "error",
     "traceback": [
      "\u001b[0;31m---------------------------------------------------------------------------\u001b[0m",
      "\u001b[0;31mNameError\u001b[0m                                 Traceback (most recent call last)",
      "\u001b[0;32m/var/folders/lr/583f62j11vlf8ysdc5rh97000000gn/T/ipykernel_97137/3453430090.py\u001b[0m in \u001b[0;36m<module>\u001b[0;34m\u001b[0m\n\u001b[0;32m----> 1\u001b[0;31m \u001b[0mdf\u001b[0m \u001b[0;34m=\u001b[0m \u001b[0mpandas\u001b[0m\u001b[0;34m.\u001b[0m\u001b[0mDataFrame\u001b[0m\u001b[0;34m(\u001b[0m\u001b[0mcruise_tweets\u001b[0m\u001b[0;34m.\u001b[0m\u001b[0mfind\u001b[0m\u001b[0;34m(\u001b[0m\u001b[0;34m)\u001b[0m\u001b[0;34m)\u001b[0m\u001b[0;34m\u001b[0m\u001b[0;34m\u001b[0m\u001b[0m\n\u001b[0m\u001b[1;32m      2\u001b[0m \u001b[0mprint\u001b[0m\u001b[0;34m(\u001b[0m\u001b[0mdf\u001b[0m\u001b[0;34m)\u001b[0m\u001b[0;34m\u001b[0m\u001b[0;34m\u001b[0m\u001b[0m\n\u001b[1;32m      3\u001b[0m \u001b[0;34m\u001b[0m\u001b[0m\n",
      "\u001b[0;31mNameError\u001b[0m: name 'cruise_tweets' is not defined"
     ]
    }
   ],
   "source": [
    " df = pandas.DataFrame(cruise_tweets.find())\n",
    " print(df)\n",
    " "
   ]
  }
 ],
 "metadata": {
  "interpreter": {
   "hash": "44a9cdcbdccbf05a880e90d2e6fe72470baab4d1b82472d890be0596ed887a6b"
  },
  "kernelspec": {
   "display_name": "Python 3.10.1 64-bit",
   "language": "python",
   "name": "python3"
  },
  "language_info": {
   "codemirror_mode": {
    "name": "ipython",
    "version": 3
   },
   "file_extension": ".py",
   "mimetype": "text/x-python",
   "name": "python",
   "nbconvert_exporter": "python",
   "pygments_lexer": "ipython3",
   "version": "3.10.1"
  },
  "orig_nbformat": 4
 },
 "nbformat": 4,
 "nbformat_minor": 2
}
