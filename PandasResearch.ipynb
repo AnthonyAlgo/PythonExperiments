{
 "cells": [
  {
   "cell_type": "code",
   "execution_count": 5,
   "metadata": {},
   "outputs": [],
   "source": [
    "import pandas\n",
    "import requests\n",
    "import io\n",
    "import zipfile"
   ]
  },
  {
   "cell_type": "code",
   "execution_count": 29,
   "metadata": {},
   "outputs": [],
   "source": [
    "def get_zipped_csv_from_url(url : str, csv_name : str, num_rows : int) -> pandas.DataFrame:\n",
    "    web_file = requests.get(url=url)\n",
    "    zip = zipfile.ZipFile(io.BytesIO(web_file.content))\n",
    "    #data = pandas.read_csv(zip.open(csv_name), nrows=num_rows,usecols=['Date received','Issue'])\n",
    "    data = pandas.read_csv(zip.open(csv_name), nrows=num_rows)\n",
    "\n",
    "    df = pandas.DataFrame(data)\n",
    "\n",
    "    #print(df)\n",
    "df = get_zipped_csv_from_url(\"https://files.consumerfinance.gov/ccdb/complaints.csv.zip\",\"complaints.csv\",10)"
   ]
  },
  {
   "cell_type": "code",
   "execution_count": 23,
   "metadata": {},
   "outputs": [
    {
     "data": {
      "text/plain": [
       "Date received                                                          2019-11-01\n",
       "Product                                                     Vehicle loan or lease\n",
       "Sub-product                                                                  Loan\n",
       "Issue                                                 Struggling to pay your loan\n",
       "Sub-issue                                        Denied request to lower payments\n",
       "Consumer complaint narrative    I contacted Ally on Friday XX/XX/XXXX after fa...\n",
       "Company public response         Company has responded to the consumer and the ...\n",
       "Company                                                       ALLY FINANCIAL INC.\n",
       "State                                                                          NJ\n",
       "ZIP code                                                                     8854\n",
       "Tags                                                                          NaN\n",
       "Consumer consent provided?                                       Consent provided\n",
       "Submitted via                                                                 Web\n",
       "Date sent to company                                                   2019-11-01\n",
       "Company response to consumer                              Closed with explanation\n",
       "Timely response?                                                              Yes\n",
       "Consumer disputed?                                                            NaN\n",
       "Complaint ID                                                              3425257\n",
       "Name: 1, dtype: object"
      ]
     },
     "execution_count": 23,
     "metadata": {},
     "output_type": "execute_result"
    }
   ],
   "source": [
    "df.loc[]"
   ]
  }
 ],
 "metadata": {
  "interpreter": {
   "hash": "44a9cdcbdccbf05a880e90d2e6fe72470baab4d1b82472d890be0596ed887a6b"
  },
  "kernelspec": {
   "display_name": "Python 3.10.1 64-bit",
   "language": "python",
   "name": "python3"
  },
  "language_info": {
   "codemirror_mode": {
    "name": "ipython",
    "version": 3
   },
   "file_extension": ".py",
   "mimetype": "text/x-python",
   "name": "python",
   "nbconvert_exporter": "python",
   "pygments_lexer": "ipython3",
   "version": "3.10.1"
  },
  "orig_nbformat": 4
 },
 "nbformat": 4,
 "nbformat_minor": 2
}
