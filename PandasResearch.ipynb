{
 "cells": [
  {
   "cell_type": "code",
   "execution_count": 30,
   "metadata": {},
   "outputs": [],
   "source": [
    "import pandas\n",
    "import requests\n",
    "import io\n",
    "import zipfile"
   ]
  },
  {
   "cell_type": "code",
   "execution_count": 31,
   "metadata": {},
   "outputs": [],
   "source": [
    "def get_zipped_csv_from_url(url : str, csv_name : str, num_rows : int) -> pandas.DataFrame:\n",
    "    web_file = requests.get(url=url)\n",
    "    zip = zipfile.ZipFile(io.BytesIO(web_file.content))\n",
    "    #data = pandas.read_csv(zip.open(csv_name), nrows=num_rows,usecols=['Date received','Issue'])\n",
    "    data = pandas.read_csv(zip.open(csv_name), nrows=num_rows)\n",
    "    return pandas.DataFrame(data)\n",
    "\n",
    "    #print(df)\n",
    "df = get_zipped_csv_from_url(\"https://files.consumerfinance.gov/ccdb/complaints.csv.zip\",\"complaints.csv\",10)"
   ]
  },
  {
   "cell_type": "code",
   "execution_count": 48,
   "metadata": {},
   "outputs": [
    {
     "name": "stdout",
     "output_type": "stream",
     "text": [
      "{'data': {'id': '1228393702244134912', 'text': 'What did the developer write in their Valentine’s card?\\n  \\nwhile(true) {\\n    I = Love(You);  \\n}'}}\n"
     ]
    }
   ],
   "source": [
    "id = \"1228393702244134912\"\n",
    "endpoint = \"https://api.twitter.com/2/tweets/\"+id\n",
    "credential_path = \"/Users/at/API Credentials/TwitterCreds.txt\"\n",
    "file = open(credential_path, \"r\")\n",
    "#read first line for bearer\n",
    "token = file.readline()\n",
    "bearer_token = \"Bearer \" + token\n",
    "headers = {\"Authorization\" : bearer_token}\n",
    "response = requests.get(endpoint,headers=headers).json()\n",
    "print(response)\n"
   ]
  }
 ],
 "metadata": {
  "interpreter": {
   "hash": "44a9cdcbdccbf05a880e90d2e6fe72470baab4d1b82472d890be0596ed887a6b"
  },
  "kernelspec": {
   "display_name": "Python 3.10.1 64-bit",
   "language": "python",
   "name": "python3"
  },
  "language_info": {
   "codemirror_mode": {
    "name": "ipython",
    "version": 3
   },
   "file_extension": ".py",
   "mimetype": "text/x-python",
   "name": "python",
   "nbconvert_exporter": "python",
   "pygments_lexer": "ipython3",
   "version": "3.10.1"
  },
  "orig_nbformat": 4
 },
 "nbformat": 4,
 "nbformat_minor": 2
}
