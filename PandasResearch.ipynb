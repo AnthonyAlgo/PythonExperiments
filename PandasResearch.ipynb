{
 "cells": [
  {
   "cell_type": "code",
   "execution_count": 5,
   "metadata": {},
   "outputs": [],
   "source": [
    "import pandas\n",
    "import requests\n",
    "import io\n",
    "import zipfile"
   ]
  },
  {
   "cell_type": "code",
   "execution_count": 10,
   "metadata": {},
   "outputs": [
    {
     "name": "stdout",
     "output_type": "stream",
     "text": [
      "  Date received                                 Issue\n",
      "0    2019-06-13  Incorrect information on your report\n"
     ]
    }
   ],
   "source": [
    "web_file = requests.get(url=\"https://files.consumerfinance.gov/ccdb/complaints.csv.zip\")\n",
    "zip = zipfile.ZipFile(io.BytesIO(web_file.content))\n",
    "data = pandas.read_csv(zip.open(\"complaints.csv\"), nrows=10,usecols=['Date received','Issue'])\n",
    "\n",
    "df = pandas.DataFrame(data)\n",
    "print(df)"
   ]
  }
 ],
 "metadata": {
  "interpreter": {
   "hash": "44a9cdcbdccbf05a880e90d2e6fe72470baab4d1b82472d890be0596ed887a6b"
  },
  "kernelspec": {
   "display_name": "Python 3.10.1 64-bit",
   "language": "python",
   "name": "python3"
  },
  "language_info": {
   "codemirror_mode": {
    "name": "ipython",
    "version": 3
   },
   "file_extension": ".py",
   "mimetype": "text/x-python",
   "name": "python",
   "nbconvert_exporter": "python",
   "pygments_lexer": "ipython3",
   "version": "3.10.1"
  },
  "orig_nbformat": 4
 },
 "nbformat": 4,
 "nbformat_minor": 2
}
